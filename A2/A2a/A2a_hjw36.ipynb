{
 "cells": [
  {
   "cell_type": "markdown",
   "id": "34a5b81c-68b3-4620-89b6-f4a569d0fa12",
   "metadata": {},
   "source": [
    "# Assignment A2a: Signal Detection\n",
    "Hunter Welch 2/6/2023"
   ]
  },
  {
   "cell_type": "markdown",
   "id": "e818a68e-1837-4b3b-a173-f8054ccacd68",
   "metadata": {},
   "source": [
    "## 1. Generating signals with events and additive noise"
   ]
  },
  {
   "cell_type": "markdown",
   "id": "92d6593d-7096-48f3-9ba5-c7355c70e49d",
   "metadata": {},
   "source": [
    "### 1a. Randomly occurring events in Gaussian noise"
   ]
  },
  {
   "cell_type": "markdown",
   "id": "7cddd3fe-e416-4aa6-8e5e-d262fb7b3e6b",
   "metadata": {},
   "source": [
    "### 1b. Signals in uniform noise"
   ]
  },
  {
   "cell_type": "markdown",
   "id": "74ef3b76-4ef8-4278-8539-a01c26598418",
   "metadata": {},
   "source": [
    "### 1c. Notation"
   ]
  },
  {
   "cell_type": "markdown",
   "id": "0df5a2b7-4893-4384-a046-35f096d11ccd",
   "metadata": {},
   "source": [
    "### 1d. Conditional probability"
   ]
  },
  {
   "cell_type": "markdown",
   "id": "78b8d626-87e5-4f22-a316-b00222aa22da",
   "metadata": {},
   "source": [
    "## 2. Signal detection"
   ]
  },
  {
   "cell_type": "markdown",
   "id": "19f27f42-dbb0-450b-9b29-c32b14d72426",
   "metadata": {},
   "source": [
    "### 2a. Effect of parameters on detection probability"
   ]
  },
  {
   "cell_type": "markdown",
   "id": "6e7d6bae-96c4-4076-8254-ec7a1e0740da",
   "metadata": {},
   "source": [
    "### 2b. Types of detections and detection errors"
   ]
  },
  {
   "cell_type": "markdown",
   "id": "485859e0-6e78-44b7-922f-09e2d9340ba0",
   "metadata": {},
   "source": [
    "### 2c. Detection probabilities"
   ]
  },
  {
   "cell_type": "markdown",
   "id": "f952e2ce-bc0f-4a6f-a336-7703e8d26371",
   "metadata": {},
   "source": [
    "## 3. ROC cures"
   ]
  },
  {
   "cell_type": "markdown",
   "id": "5d0d74a7-6d28-4263-bdf1-dc3685f590b1",
   "metadata": {},
   "source": [
    "### 3a. Threshold considerations"
   ]
  },
  {
   "cell_type": "markdown",
   "id": "c062e5fd-4f10-4f44-acbd-fbf7ce1c0185",
   "metadata": {},
   "source": [
    "### 3b. ROC plot"
   ]
  }
 ],
 "metadata": {
  "kernelspec": {
   "display_name": "Python 3 (ipykernel)",
   "language": "python",
   "name": "python3"
  },
  "language_info": {
   "codemirror_mode": {
    "name": "ipython",
    "version": 3
   },
   "file_extension": ".py",
   "mimetype": "text/x-python",
   "name": "python",
   "nbconvert_exporter": "python",
   "pygments_lexer": "ipython3",
   "version": "3.11.1"
  }
 },
 "nbformat": 4,
 "nbformat_minor": 5
}
