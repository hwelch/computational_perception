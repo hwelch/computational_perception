{
 "cells": [
  {
   "cell_type": "markdown",
   "metadata": {
    "tags": []
   },
   "source": [
    "## Assignment A1a: Jupyter Notebooks\n",
    "\n",
    "Please follow the General Assignment Guidelines document on canvas under the Pages for completing this assignment.  When you have completed the assignment, please follow the Submission Instructions."
   ]
  },
  {
   "cell_type": "markdown",
   "metadata": {},
   "source": [
    "### Overview\n",
    "\n",
    "In this assignment you will setup your jupyter notebook environment.  You will create a notebook, format text and equations, write code, and make basic plots.\n",
    "\n",
    "Note that this and future assignments are not a step-by-step guides and there is usually not a single best approach or solution.  Part of the exercise is to figure things out and develop proficiency in searching through documentation, configuring your setup, and debugging installation issues.  Allow plenty of time for googling.\n",
    "\n",
    "Also note that jupyter notebooks themselves are part of a much larger and rapidly developing ecosystem for interactive data science and scientific computing.  You are encouraged to explore and try things out.  There are numerous sources of information and ideas in the documentation, blogs, and discussion groups."
   ]
  },
  {
   "cell_type": "markdown",
   "metadata": {},
   "source": [
    "### Learning objectives\n",
    "\n",
    "- install a working jupyter environment\n",
    "- write text using markdown\n",
    "- write equations using latex\n",
    "- write code to implement simple functions\n",
    "- make basic plots\n",
    "- export your notebook to pdf for submission to canvas"
   ]
  },
  {
   "cell_type": "markdown",
   "metadata": {},
   "source": [
    "***"
   ]
  },
  {
   "cell_type": "markdown",
   "metadata": {},
   "source": [
    "### Setting up your Jupyter Environment\n",
    "\n",
    "In this course, you will be completing your assignments primarily in a jupyter notebook, which provides an interactive development environment that allows you to write code, equations, visualizations, and text.\n",
    "\n",
    "You first task is to setup a jupyter notebook environment on your system.  As a default starting point, I would recommend installing anaconda ([the individual edition](https://www.anaconda.com/products/individual)) and then jupyterlab (see [https://jupyter.org/install](https://jupyter.org/install)).  \n",
    "\n",
    "There are numerous other installation possibilities, but all you need is to be able to create jupyter notebooks and write code in either python or julia.  The advantage of anaconda is that installs a standard python environment with numerous packages like numpy, scikit, etc.  If you use julia (which is what I use), you will need to install the [latest julia distribution](https://julialang.org) and the [IJulia package](https://github.com/JuliaLang/IJulia.jl).  It is also possible to use Matlab, which has it's own notebook environment, but you should instead install the matlab kernel in jupyterlab (google \"jupyterlab matlab kernel\").\n",
    "\n",
    "There are many, many guides to getting started with jupyter notebooks on the web.  I encourage you to look around and let me know if you find some that are particularly helpful.  [Here is just one example](https://towardsdatascience.com/7-essential-tips-for-writing-with-jupyter-notebook-60972a1a8901).  \n",
    "At this point, I would advise against getting too carried away with style and customization.  Focus on doing what's required for the assignments.  I would, however, recommend that you take the time to learn the keyboard commands for notebooks and code editing.  Minimizing your use of the mouse and menus will greatly improve your productivity.\n",
    "\n",
    "Notebooks are most suitable for the exploration and development of short functions.  When your programs become more complex or more difficult to debug, it is usually more efficient to write and debug your code in a traditional IDE like [Atom](https://atom.io) or [Visual Studio Code](https://code.visualstudio.com).\n",
    "\n",
    "Note that we do not recommend a specific plotting library, as there are numerous choices, and which one you prefer depends on factors like what you are already familiar with, what you're interested in learning, or the functionality you need.  For python, a common choice is [matplotlib](https://matplotlib.org).  In julia, the [Plots.jl package](https://github.com/JuliaPlots/Plots.jl) provides a standard interface to several different backends.  You should feel free to explore others."
   ]
  },
  {
   "cell_type": "markdown",
   "metadata": {},
   "source": [
    "***"
   ]
  },
  {
   "cell_type": "markdown",
   "metadata": {},
   "source": [
    "### 1. Markdown and latex\n",
    "\n",
    "You can get started with markdown with the jupyter documentation on [markdown cells](https://jupyter-notebook.readthedocs.io/en/stable/examples/Notebook/Working%20With%20Markdown%20Cells.html).  Also see [learn markdown in 60 secs](https://commonmark.org/help/).\n",
    "\n",
    "A comprehensive reference to latex is the [katex supported functions](https://katex.org/docs/supported.html) page.\n",
    "\n",
    "**1a.** Use markdown and latex to write a short description of the univariate normal probability distribution function (pdf) $p(x | \\mu, \\sigma)$.  \n",
    "\n",
    "\n",
    "**1b.** Explain how the joint probability of independent random variables (with the same mean and variance) $p(x_{1:N} | \\mu, \\sigma)$ is the product of the univariate pdfs.\n",
    "\n",
    "Your answers should:\n",
    "- use the standard greek symbols for the mean and variance\n",
    "- show the equations for the pdf and the joint pdf on their own separate lines\n",
    "- write the product in both the general form as the product of functions, and in explicit form, where the product is pushed into the exponent.  You should have two equations and put them on separate lines using the latex align environment.\n",
    "- use explicit index limits for the product and sums"
   ]
  },
  {
   "cell_type": "markdown",
   "metadata": {},
   "source": [
    "### 2. Simple functions and plotting\n",
    "\n",
    "Write code that defines a function `g(x; μ=0, σ=1.0)` to compute the normal probability density function with default values of zero mean ($\\mu$) and unit standard deviation ($\\sigma$).\n",
    "\n",
    "Use this function to produce the following figure:  Plot the pdf of the normal distribution for a given mean and standard deviation over the range $\\pm 4\\sigma$ relative to the mean.  It should also overlay on the plot:\n",
    "- a circle mark at the likelihood for a point $x_1$  with a connecting line to the x-axis\n",
    "- an annotation that displays the numerical value of the likelihood to 3 digits.\n",
    "\n",
    "Your code should be written so that that all the variables are parameters that can easily be specified and called for producing multiple plots of the same form.  You functions should use keyword arguments (as opposed to positional)."
   ]
  },
  {
   "cell_type": "markdown",
   "metadata": {},
   "source": [
    "***\n",
    "### Self-check\n",
    "\n",
    "When you complete the assignment you will submit a draft to canvas, which will only be checked for completeness.  You can then take the self-check quiz to assess both the correctness of your code and your general understanding of the concepts.  If you have errors, or found that you misinterpreted the question, you can revise your assignment and make corrections before submitting the final version.\n",
    "\n",
    "You may find that to produce the outputs in the tests you need to re-design some of your code or write additional functions.  This is normal and is an important part of the learning processes."
   ]
  },
  {
   "cell_type": "markdown",
   "metadata": {},
   "source": [
    "***\n",
    "### Submission Instructions\n",
    "\n",
    "Please refer to the Assignment Submission Instructions on canvas under the Pages tab."
   ]
  },
  {
   "cell_type": "code",
   "execution_count": null,
   "metadata": {},
   "outputs": [],
   "source": []
  }
 ],
 "metadata": {
  "kernelspec": {
   "display_name": "Python 3 (ipykernel)",
   "language": "python",
   "name": "python3"
  },
  "language_info": {
   "codemirror_mode": {
    "name": "ipython",
    "version": 3
   },
   "file_extension": ".py",
   "mimetype": "text/x-python",
   "name": "python",
   "nbconvert_exporter": "python",
   "pygments_lexer": "ipython3",
   "version": "3.11.1"
  }
 },
 "nbformat": 4,
 "nbformat_minor": 4
}
